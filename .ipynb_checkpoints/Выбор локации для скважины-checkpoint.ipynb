{
 "cells": [
  {
   "cell_type": "markdown",
   "metadata": {},
   "source": [
    "# Выбор локации для скважины"
   ]
  },
  {
   "cell_type": "markdown",
   "metadata": {},
   "source": [
    "Допустим, вы работаете в добывающей компании «ГлавРосГосНефть». Нужно решить, где бурить новую скважину.\n",
    "\n",
    "Вам предоставлены пробы нефти в трёх регионах: в каждом 10 000 месторождений, где измерили качество нефти и объём её запасов. Постройте модель машинного обучения, которая поможет определить регион, где добыча принесёт наибольшую прибыль. Проанализируйте возможную прибыль и риски техникой *Bootstrap.*\n",
    "\n",
    "Шаги для выбора локации:\n",
    "\n",
    "- В избранном регионе ищут месторождения, для каждого определяют значения признаков;\n",
    "- Строят модель и оценивают объём запасов;\n",
    "- Выбирают месторождения с самым высокими оценками значений. Количество месторождений зависит от бюджета компании и стоимости разработки одной скважины;\n",
    "- Прибыль равна суммарной прибыли отобранных месторождений."
   ]
  },
  {
   "cell_type": "markdown",
   "metadata": {},
   "source": [
    "## Загрузка и подготовка данных"
   ]
  },
  {
   "cell_type": "markdown",
   "metadata": {},
   "source": [
    "Шаг 1: Загружаем данные."
   ]
  },
  {
   "cell_type": "code",
   "execution_count": 1,
   "metadata": {},
   "outputs": [],
   "source": [
    "import pandas as pd\n",
    "import numpy as np\n",
    "import matplotlib.pyplot as plt\n",
    "import seaborn as sns\n",
    "from sklearn.linear_model import LinearRegression\n",
    "from sklearn.model_selection import GridSearchCV, cross_val_score, train_test_split, StratifiedKFold\n",
    "from sklearn.metrics import mean_squared_error, make_scorer\n",
    "from collections import defaultdict"
   ]
  },
  {
   "cell_type": "code",
   "execution_count": 2,
   "metadata": {},
   "outputs": [],
   "source": [
    "data_0 = pd.read_csv('geo_data_0.csv')\n",
    "data_1 = pd.read_csv('geo_data_1.csv')\n",
    "data_2 = pd.read_csv('geo_data_2.csv')"
   ]
  },
  {
   "cell_type": "code",
   "execution_count": 3,
   "metadata": {},
   "outputs": [
    {
     "data": {
      "text/html": [
       "<div>\n",
       "<style scoped>\n",
       "    .dataframe tbody tr th:only-of-type {\n",
       "        vertical-align: middle;\n",
       "    }\n",
       "\n",
       "    .dataframe tbody tr th {\n",
       "        vertical-align: top;\n",
       "    }\n",
       "\n",
       "    .dataframe thead th {\n",
       "        text-align: right;\n",
       "    }\n",
       "</style>\n",
       "<table border=\"1\" class=\"dataframe\">\n",
       "  <thead>\n",
       "    <tr style=\"text-align: right;\">\n",
       "      <th></th>\n",
       "      <th>id</th>\n",
       "      <th>f0</th>\n",
       "      <th>f1</th>\n",
       "      <th>f2</th>\n",
       "      <th>product</th>\n",
       "    </tr>\n",
       "  </thead>\n",
       "  <tbody>\n",
       "    <tr>\n",
       "      <th>0</th>\n",
       "      <td>txEyH</td>\n",
       "      <td>0.705745</td>\n",
       "      <td>-0.497823</td>\n",
       "      <td>1.221170</td>\n",
       "      <td>105.280062</td>\n",
       "    </tr>\n",
       "    <tr>\n",
       "      <th>1</th>\n",
       "      <td>2acmU</td>\n",
       "      <td>1.334711</td>\n",
       "      <td>-0.340164</td>\n",
       "      <td>4.365080</td>\n",
       "      <td>73.037750</td>\n",
       "    </tr>\n",
       "    <tr>\n",
       "      <th>2</th>\n",
       "      <td>409Wp</td>\n",
       "      <td>1.022732</td>\n",
       "      <td>0.151990</td>\n",
       "      <td>1.419926</td>\n",
       "      <td>85.265647</td>\n",
       "    </tr>\n",
       "    <tr>\n",
       "      <th>3</th>\n",
       "      <td>iJLyR</td>\n",
       "      <td>-0.032172</td>\n",
       "      <td>0.139033</td>\n",
       "      <td>2.978566</td>\n",
       "      <td>168.620776</td>\n",
       "    </tr>\n",
       "    <tr>\n",
       "      <th>4</th>\n",
       "      <td>Xdl7t</td>\n",
       "      <td>1.988431</td>\n",
       "      <td>0.155413</td>\n",
       "      <td>4.751769</td>\n",
       "      <td>154.036647</td>\n",
       "    </tr>\n",
       "    <tr>\n",
       "      <th>5</th>\n",
       "      <td>wX4Hy</td>\n",
       "      <td>0.969570</td>\n",
       "      <td>0.489775</td>\n",
       "      <td>-0.735383</td>\n",
       "      <td>64.741541</td>\n",
       "    </tr>\n",
       "    <tr>\n",
       "      <th>6</th>\n",
       "      <td>tL6pL</td>\n",
       "      <td>0.645075</td>\n",
       "      <td>0.530656</td>\n",
       "      <td>1.780266</td>\n",
       "      <td>49.055285</td>\n",
       "    </tr>\n",
       "    <tr>\n",
       "      <th>7</th>\n",
       "      <td>BYPU6</td>\n",
       "      <td>-0.400648</td>\n",
       "      <td>0.808337</td>\n",
       "      <td>-5.624670</td>\n",
       "      <td>72.943292</td>\n",
       "    </tr>\n",
       "    <tr>\n",
       "      <th>8</th>\n",
       "      <td>j9Oui</td>\n",
       "      <td>0.643105</td>\n",
       "      <td>-0.551583</td>\n",
       "      <td>2.372141</td>\n",
       "      <td>113.356160</td>\n",
       "    </tr>\n",
       "    <tr>\n",
       "      <th>9</th>\n",
       "      <td>OLuZU</td>\n",
       "      <td>2.173381</td>\n",
       "      <td>0.563698</td>\n",
       "      <td>9.441852</td>\n",
       "      <td>127.910945</td>\n",
       "    </tr>\n",
       "  </tbody>\n",
       "</table>\n",
       "</div>"
      ],
      "text/plain": [
       "      id        f0        f1        f2     product\n",
       "0  txEyH  0.705745 -0.497823  1.221170  105.280062\n",
       "1  2acmU  1.334711 -0.340164  4.365080   73.037750\n",
       "2  409Wp  1.022732  0.151990  1.419926   85.265647\n",
       "3  iJLyR -0.032172  0.139033  2.978566  168.620776\n",
       "4  Xdl7t  1.988431  0.155413  4.751769  154.036647\n",
       "5  wX4Hy  0.969570  0.489775 -0.735383   64.741541\n",
       "6  tL6pL  0.645075  0.530656  1.780266   49.055285\n",
       "7  BYPU6 -0.400648  0.808337 -5.624670   72.943292\n",
       "8  j9Oui  0.643105 -0.551583  2.372141  113.356160\n",
       "9  OLuZU  2.173381  0.563698  9.441852  127.910945"
      ]
     },
     "metadata": {},
     "output_type": "display_data"
    },
    {
     "name": "stdout",
     "output_type": "stream",
     "text": [
      "\n"
     ]
    },
    {
     "data": {
      "text/html": [
       "<div>\n",
       "<style scoped>\n",
       "    .dataframe tbody tr th:only-of-type {\n",
       "        vertical-align: middle;\n",
       "    }\n",
       "\n",
       "    .dataframe tbody tr th {\n",
       "        vertical-align: top;\n",
       "    }\n",
       "\n",
       "    .dataframe thead th {\n",
       "        text-align: right;\n",
       "    }\n",
       "</style>\n",
       "<table border=\"1\" class=\"dataframe\">\n",
       "  <thead>\n",
       "    <tr style=\"text-align: right;\">\n",
       "      <th></th>\n",
       "      <th>id</th>\n",
       "      <th>f0</th>\n",
       "      <th>f1</th>\n",
       "      <th>f2</th>\n",
       "      <th>product</th>\n",
       "    </tr>\n",
       "  </thead>\n",
       "  <tbody>\n",
       "    <tr>\n",
       "      <th>0</th>\n",
       "      <td>txEyH</td>\n",
       "      <td>0.705745</td>\n",
       "      <td>-0.497823</td>\n",
       "      <td>1.221170</td>\n",
       "      <td>105.280062</td>\n",
       "    </tr>\n",
       "    <tr>\n",
       "      <th>1</th>\n",
       "      <td>2acmU</td>\n",
       "      <td>1.334711</td>\n",
       "      <td>-0.340164</td>\n",
       "      <td>4.365080</td>\n",
       "      <td>73.037750</td>\n",
       "    </tr>\n",
       "    <tr>\n",
       "      <th>2</th>\n",
       "      <td>409Wp</td>\n",
       "      <td>1.022732</td>\n",
       "      <td>0.151990</td>\n",
       "      <td>1.419926</td>\n",
       "      <td>85.265647</td>\n",
       "    </tr>\n",
       "    <tr>\n",
       "      <th>3</th>\n",
       "      <td>iJLyR</td>\n",
       "      <td>-0.032172</td>\n",
       "      <td>0.139033</td>\n",
       "      <td>2.978566</td>\n",
       "      <td>168.620776</td>\n",
       "    </tr>\n",
       "    <tr>\n",
       "      <th>4</th>\n",
       "      <td>Xdl7t</td>\n",
       "      <td>1.988431</td>\n",
       "      <td>0.155413</td>\n",
       "      <td>4.751769</td>\n",
       "      <td>154.036647</td>\n",
       "    </tr>\n",
       "    <tr>\n",
       "      <th>5</th>\n",
       "      <td>wX4Hy</td>\n",
       "      <td>0.969570</td>\n",
       "      <td>0.489775</td>\n",
       "      <td>-0.735383</td>\n",
       "      <td>64.741541</td>\n",
       "    </tr>\n",
       "    <tr>\n",
       "      <th>6</th>\n",
       "      <td>tL6pL</td>\n",
       "      <td>0.645075</td>\n",
       "      <td>0.530656</td>\n",
       "      <td>1.780266</td>\n",
       "      <td>49.055285</td>\n",
       "    </tr>\n",
       "    <tr>\n",
       "      <th>7</th>\n",
       "      <td>BYPU6</td>\n",
       "      <td>-0.400648</td>\n",
       "      <td>0.808337</td>\n",
       "      <td>-5.624670</td>\n",
       "      <td>72.943292</td>\n",
       "    </tr>\n",
       "    <tr>\n",
       "      <th>8</th>\n",
       "      <td>j9Oui</td>\n",
       "      <td>0.643105</td>\n",
       "      <td>-0.551583</td>\n",
       "      <td>2.372141</td>\n",
       "      <td>113.356160</td>\n",
       "    </tr>\n",
       "    <tr>\n",
       "      <th>9</th>\n",
       "      <td>OLuZU</td>\n",
       "      <td>2.173381</td>\n",
       "      <td>0.563698</td>\n",
       "      <td>9.441852</td>\n",
       "      <td>127.910945</td>\n",
       "    </tr>\n",
       "  </tbody>\n",
       "</table>\n",
       "</div>"
      ],
      "text/plain": [
       "      id        f0        f1        f2     product\n",
       "0  txEyH  0.705745 -0.497823  1.221170  105.280062\n",
       "1  2acmU  1.334711 -0.340164  4.365080   73.037750\n",
       "2  409Wp  1.022732  0.151990  1.419926   85.265647\n",
       "3  iJLyR -0.032172  0.139033  2.978566  168.620776\n",
       "4  Xdl7t  1.988431  0.155413  4.751769  154.036647\n",
       "5  wX4Hy  0.969570  0.489775 -0.735383   64.741541\n",
       "6  tL6pL  0.645075  0.530656  1.780266   49.055285\n",
       "7  BYPU6 -0.400648  0.808337 -5.624670   72.943292\n",
       "8  j9Oui  0.643105 -0.551583  2.372141  113.356160\n",
       "9  OLuZU  2.173381  0.563698  9.441852  127.910945"
      ]
     },
     "metadata": {},
     "output_type": "display_data"
    },
    {
     "name": "stdout",
     "output_type": "stream",
     "text": [
      "\n"
     ]
    },
    {
     "data": {
      "text/html": [
       "<div>\n",
       "<style scoped>\n",
       "    .dataframe tbody tr th:only-of-type {\n",
       "        vertical-align: middle;\n",
       "    }\n",
       "\n",
       "    .dataframe tbody tr th {\n",
       "        vertical-align: top;\n",
       "    }\n",
       "\n",
       "    .dataframe thead th {\n",
       "        text-align: right;\n",
       "    }\n",
       "</style>\n",
       "<table border=\"1\" class=\"dataframe\">\n",
       "  <thead>\n",
       "    <tr style=\"text-align: right;\">\n",
       "      <th></th>\n",
       "      <th>id</th>\n",
       "      <th>f0</th>\n",
       "      <th>f1</th>\n",
       "      <th>f2</th>\n",
       "      <th>product</th>\n",
       "    </tr>\n",
       "  </thead>\n",
       "  <tbody>\n",
       "    <tr>\n",
       "      <th>0</th>\n",
       "      <td>txEyH</td>\n",
       "      <td>0.705745</td>\n",
       "      <td>-0.497823</td>\n",
       "      <td>1.221170</td>\n",
       "      <td>105.280062</td>\n",
       "    </tr>\n",
       "    <tr>\n",
       "      <th>1</th>\n",
       "      <td>2acmU</td>\n",
       "      <td>1.334711</td>\n",
       "      <td>-0.340164</td>\n",
       "      <td>4.365080</td>\n",
       "      <td>73.037750</td>\n",
       "    </tr>\n",
       "    <tr>\n",
       "      <th>2</th>\n",
       "      <td>409Wp</td>\n",
       "      <td>1.022732</td>\n",
       "      <td>0.151990</td>\n",
       "      <td>1.419926</td>\n",
       "      <td>85.265647</td>\n",
       "    </tr>\n",
       "    <tr>\n",
       "      <th>3</th>\n",
       "      <td>iJLyR</td>\n",
       "      <td>-0.032172</td>\n",
       "      <td>0.139033</td>\n",
       "      <td>2.978566</td>\n",
       "      <td>168.620776</td>\n",
       "    </tr>\n",
       "    <tr>\n",
       "      <th>4</th>\n",
       "      <td>Xdl7t</td>\n",
       "      <td>1.988431</td>\n",
       "      <td>0.155413</td>\n",
       "      <td>4.751769</td>\n",
       "      <td>154.036647</td>\n",
       "    </tr>\n",
       "    <tr>\n",
       "      <th>5</th>\n",
       "      <td>wX4Hy</td>\n",
       "      <td>0.969570</td>\n",
       "      <td>0.489775</td>\n",
       "      <td>-0.735383</td>\n",
       "      <td>64.741541</td>\n",
       "    </tr>\n",
       "    <tr>\n",
       "      <th>6</th>\n",
       "      <td>tL6pL</td>\n",
       "      <td>0.645075</td>\n",
       "      <td>0.530656</td>\n",
       "      <td>1.780266</td>\n",
       "      <td>49.055285</td>\n",
       "    </tr>\n",
       "    <tr>\n",
       "      <th>7</th>\n",
       "      <td>BYPU6</td>\n",
       "      <td>-0.400648</td>\n",
       "      <td>0.808337</td>\n",
       "      <td>-5.624670</td>\n",
       "      <td>72.943292</td>\n",
       "    </tr>\n",
       "    <tr>\n",
       "      <th>8</th>\n",
       "      <td>j9Oui</td>\n",
       "      <td>0.643105</td>\n",
       "      <td>-0.551583</td>\n",
       "      <td>2.372141</td>\n",
       "      <td>113.356160</td>\n",
       "    </tr>\n",
       "    <tr>\n",
       "      <th>9</th>\n",
       "      <td>OLuZU</td>\n",
       "      <td>2.173381</td>\n",
       "      <td>0.563698</td>\n",
       "      <td>9.441852</td>\n",
       "      <td>127.910945</td>\n",
       "    </tr>\n",
       "  </tbody>\n",
       "</table>\n",
       "</div>"
      ],
      "text/plain": [
       "      id        f0        f1        f2     product\n",
       "0  txEyH  0.705745 -0.497823  1.221170  105.280062\n",
       "1  2acmU  1.334711 -0.340164  4.365080   73.037750\n",
       "2  409Wp  1.022732  0.151990  1.419926   85.265647\n",
       "3  iJLyR -0.032172  0.139033  2.978566  168.620776\n",
       "4  Xdl7t  1.988431  0.155413  4.751769  154.036647\n",
       "5  wX4Hy  0.969570  0.489775 -0.735383   64.741541\n",
       "6  tL6pL  0.645075  0.530656  1.780266   49.055285\n",
       "7  BYPU6 -0.400648  0.808337 -5.624670   72.943292\n",
       "8  j9Oui  0.643105 -0.551583  2.372141  113.356160\n",
       "9  OLuZU  2.173381  0.563698  9.441852  127.910945"
      ]
     },
     "metadata": {},
     "output_type": "display_data"
    }
   ],
   "source": [
    "display(data_0.head(10))\n",
    "print()\n",
    "display(data_1.head(10))\n",
    "print()\n",
    "display(data_2.head(10))"
   ]
  },
  {
   "cell_type": "markdown",
   "metadata": {},
   "source": [
    "Данные загрузились корректно, теперь посмотрим о них общую информацию."
   ]
  },
  {
   "cell_type": "code",
   "execution_count": 4,
   "metadata": {},
   "outputs": [
    {
     "name": "stdout",
     "output_type": "stream",
     "text": [
      "<class 'pandas.core.frame.DataFrame'>\n",
      "RangeIndex: 100000 entries, 0 to 99999\n",
      "Data columns (total 5 columns):\n",
      " #   Column   Non-Null Count   Dtype  \n",
      "---  ------   --------------   -----  \n",
      " 0   id       100000 non-null  object \n",
      " 1   f0       100000 non-null  float64\n",
      " 2   f1       100000 non-null  float64\n",
      " 3   f2       100000 non-null  float64\n",
      " 4   product  100000 non-null  float64\n",
      "dtypes: float64(4), object(1)\n",
      "memory usage: 3.8+ MB\n",
      "\n",
      "<class 'pandas.core.frame.DataFrame'>\n",
      "RangeIndex: 100000 entries, 0 to 99999\n",
      "Data columns (total 5 columns):\n",
      " #   Column   Non-Null Count   Dtype  \n",
      "---  ------   --------------   -----  \n",
      " 0   id       100000 non-null  object \n",
      " 1   f0       100000 non-null  float64\n",
      " 2   f1       100000 non-null  float64\n",
      " 3   f2       100000 non-null  float64\n",
      " 4   product  100000 non-null  float64\n",
      "dtypes: float64(4), object(1)\n",
      "memory usage: 3.8+ MB\n",
      "\n",
      "<class 'pandas.core.frame.DataFrame'>\n",
      "RangeIndex: 100000 entries, 0 to 99999\n",
      "Data columns (total 5 columns):\n",
      " #   Column   Non-Null Count   Dtype  \n",
      "---  ------   --------------   -----  \n",
      " 0   id       100000 non-null  object \n",
      " 1   f0       100000 non-null  float64\n",
      " 2   f1       100000 non-null  float64\n",
      " 3   f2       100000 non-null  float64\n",
      " 4   product  100000 non-null  float64\n",
      "dtypes: float64(4), object(1)\n",
      "memory usage: 3.8+ MB\n"
     ]
    }
   ],
   "source": [
    "data_0.info()\n",
    "print()\n",
    "data_1.info()\n",
    "print()\n",
    "data_2.info()"
   ]
  },
  {
   "cell_type": "markdown",
   "metadata": {},
   "source": [
    "Объём данных достаточно большой, в каждом файле 5 столбцов по 100000 строчек."
   ]
  },
  {
   "cell_type": "markdown",
   "metadata": {},
   "source": [
    "Теперь проверим данные на наличие пропусков."
   ]
  },
  {
   "cell_type": "code",
   "execution_count": 5,
   "metadata": {
    "scrolled": true
   },
   "outputs": [
    {
     "name": "stdout",
     "output_type": "stream",
     "text": [
      "id         0\n",
      "f0         0\n",
      "f1         0\n",
      "f2         0\n",
      "product    0\n",
      "dtype: int64\n",
      "\n",
      "id         0\n",
      "f0         0\n",
      "f1         0\n",
      "f2         0\n",
      "product    0\n",
      "dtype: int64\n",
      "\n",
      "id         0\n",
      "f0         0\n",
      "f1         0\n",
      "f2         0\n",
      "product    0\n",
      "dtype: int64\n"
     ]
    }
   ],
   "source": [
    "print(data_0.isna().sum())\n",
    "print()\n",
    "print(data_1.isna().sum())\n",
    "print()\n",
    "print(data_2.isna().sum())"
   ]
  },
  {
   "cell_type": "markdown",
   "metadata": {},
   "source": [
    "Данные подготовлены очень хорошо, в них нет ни одного пропуска. прверим дубликаты."
   ]
  },
  {
   "cell_type": "code",
   "execution_count": 6,
   "metadata": {},
   "outputs": [
    {
     "name": "stdout",
     "output_type": "stream",
     "text": [
      "10\n",
      "\n",
      "10\n",
      "\n",
      "10\n"
     ]
    }
   ],
   "source": [
    "print(data_0['id'].duplicated().sum())\n",
    "print()\n",
    "print(data_1['id'].duplicated().sum())\n",
    "print()\n",
    "print(data_2['id'].duplicated().sum())"
   ]
  },
  {
   "cell_type": "code",
   "execution_count": 7,
   "metadata": {},
   "outputs": [
    {
     "data": {
      "text/plain": [
       "0        txEyH\n",
       "1        2acmU\n",
       "2        409Wp\n",
       "3        iJLyR\n",
       "4        Xdl7t\n",
       "         ...  \n",
       "99995    DLsed\n",
       "99996    QKivN\n",
       "99997    3rnvd\n",
       "99998    7kl59\n",
       "99999    1CWhH\n",
       "Name: id, Length: 99990, dtype: object"
      ]
     },
     "execution_count": 7,
     "metadata": {},
     "output_type": "execute_result"
    }
   ],
   "source": [
    "data_0['id'].drop_duplicates()\n",
    "data_1['id'].drop_duplicates()\n",
    "data_2['id'].drop_duplicates()"
   ]
  },
  {
   "cell_type": "markdown",
   "metadata": {},
   "source": []
  },
  {
   "cell_type": "code",
   "execution_count": 8,
   "metadata": {},
   "outputs": [
    {
     "name": "stdout",
     "output_type": "stream",
     "text": [
      "0\n",
      "\n",
      "0\n",
      "\n",
      "0\n"
     ]
    }
   ],
   "source": [
    "print(data_0.duplicated().sum())\n",
    "print()\n",
    "print(data_1.duplicated().sum())\n",
    "print()\n",
    "print(data_2.duplicated().sum())"
   ]
  },
  {
   "cell_type": "markdown",
   "metadata": {},
   "source": [
    "Дубликатов в данных тоже нет, это хорошо."
   ]
  },
  {
   "cell_type": "code",
   "execution_count": 9,
   "metadata": {},
   "outputs": [
    {
     "data": {
      "text/html": [
       "<style  type=\"text/css\" >\n",
       "#T_9bac6_row0_col0,#T_9bac6_row1_col1,#T_9bac6_row2_col2,#T_9bac6_row3_col3{\n",
       "            background-color:  #ffc0cb;\n",
       "            color:  #000000;\n",
       "        }#T_9bac6_row0_col1,#T_9bac6_row0_col2,#T_9bac6_row1_col0,#T_9bac6_row1_col2,#T_9bac6_row1_col3{\n",
       "            background-color:  #f3f0f0;\n",
       "            color:  #000000;\n",
       "        }#T_9bac6_row0_col3{\n",
       "            background-color:  #f6e2e6;\n",
       "            color:  #000000;\n",
       "        }#T_9bac6_row2_col0{\n",
       "            background-color:  #f6e1e5;\n",
       "            color:  #000000;\n",
       "        }#T_9bac6_row2_col1{\n",
       "            background-color:  #f7e1e5;\n",
       "            color:  #000000;\n",
       "        }#T_9bac6_row2_col3{\n",
       "            background-color:  #fad5db;\n",
       "            color:  #000000;\n",
       "        }#T_9bac6_row3_col0{\n",
       "            background-color:  #f8dde1;\n",
       "            color:  #000000;\n",
       "        }#T_9bac6_row3_col1{\n",
       "            background-color:  #f5e8ea;\n",
       "            color:  #000000;\n",
       "        }#T_9bac6_row3_col2{\n",
       "            background-color:  #f9d9de;\n",
       "            color:  #000000;\n",
       "        }</style><table id=\"T_9bac6_\" ><thead>    <tr>        <th class=\"blank level0\" ></th>        <th class=\"col_heading level0 col0\" >f0</th>        <th class=\"col_heading level0 col1\" >f1</th>        <th class=\"col_heading level0 col2\" >f2</th>        <th class=\"col_heading level0 col3\" >product</th>    </tr></thead><tbody>\n",
       "                <tr>\n",
       "                        <th id=\"T_9bac6_level0_row0\" class=\"row_heading level0 row0\" >f0</th>\n",
       "                        <td id=\"T_9bac6_row0_col0\" class=\"data row0 col0\" >1.000000</td>\n",
       "                        <td id=\"T_9bac6_row0_col1\" class=\"data row0 col1\" >-0.440723</td>\n",
       "                        <td id=\"T_9bac6_row0_col2\" class=\"data row0 col2\" >-0.003153</td>\n",
       "                        <td id=\"T_9bac6_row0_col3\" class=\"data row0 col3\" >0.143536</td>\n",
       "            </tr>\n",
       "            <tr>\n",
       "                        <th id=\"T_9bac6_level0_row1\" class=\"row_heading level0 row1\" >f1</th>\n",
       "                        <td id=\"T_9bac6_row1_col0\" class=\"data row1 col0\" >-0.440723</td>\n",
       "                        <td id=\"T_9bac6_row1_col1\" class=\"data row1 col1\" >1.000000</td>\n",
       "                        <td id=\"T_9bac6_row1_col2\" class=\"data row1 col2\" >0.001724</td>\n",
       "                        <td id=\"T_9bac6_row1_col3\" class=\"data row1 col3\" >-0.192356</td>\n",
       "            </tr>\n",
       "            <tr>\n",
       "                        <th id=\"T_9bac6_level0_row2\" class=\"row_heading level0 row2\" >f2</th>\n",
       "                        <td id=\"T_9bac6_row2_col0\" class=\"data row2 col0\" >-0.003153</td>\n",
       "                        <td id=\"T_9bac6_row2_col1\" class=\"data row2 col1\" >0.001724</td>\n",
       "                        <td id=\"T_9bac6_row2_col2\" class=\"data row2 col2\" >1.000000</td>\n",
       "                        <td id=\"T_9bac6_row2_col3\" class=\"data row2 col3\" >0.483663</td>\n",
       "            </tr>\n",
       "            <tr>\n",
       "                        <th id=\"T_9bac6_level0_row3\" class=\"row_heading level0 row3\" >product</th>\n",
       "                        <td id=\"T_9bac6_row3_col0\" class=\"data row3 col0\" >0.143536</td>\n",
       "                        <td id=\"T_9bac6_row3_col1\" class=\"data row3 col1\" >-0.192356</td>\n",
       "                        <td id=\"T_9bac6_row3_col2\" class=\"data row3 col2\" >0.483663</td>\n",
       "                        <td id=\"T_9bac6_row3_col3\" class=\"data row3 col3\" >1.000000</td>\n",
       "            </tr>\n",
       "    </tbody></table>"
      ],
      "text/plain": [
       "<pandas.io.formats.style.Styler at 0x7f401c012730>"
      ]
     },
     "execution_count": 9,
     "metadata": {},
     "output_type": "execute_result"
    }
   ],
   "source": [
    "cm = sns.light_palette(\"pink\", as_cmap=True)\n",
    "\n",
    "data_0.corr().style.background_gradient(cmap=cm)"
   ]
  },
  {
   "cell_type": "code",
   "execution_count": 10,
   "metadata": {},
   "outputs": [
    {
     "data": {
      "text/html": [
       "<style  type=\"text/css\" >\n",
       "#T_0eabd_row0_col0,#T_0eabd_row1_col1,#T_0eabd_row2_col2,#T_0eabd_row3_col3{\n",
       "            background-color:  #ffc0cb;\n",
       "            color:  #000000;\n",
       "        }#T_0eabd_row0_col1,#T_0eabd_row0_col2,#T_0eabd_row1_col0,#T_0eabd_row1_col2,#T_0eabd_row1_col3{\n",
       "            background-color:  #f3f0f0;\n",
       "            color:  #000000;\n",
       "        }#T_0eabd_row0_col3{\n",
       "            background-color:  #f6e2e6;\n",
       "            color:  #000000;\n",
       "        }#T_0eabd_row2_col0{\n",
       "            background-color:  #f6e1e5;\n",
       "            color:  #000000;\n",
       "        }#T_0eabd_row2_col1{\n",
       "            background-color:  #f7e1e5;\n",
       "            color:  #000000;\n",
       "        }#T_0eabd_row2_col3{\n",
       "            background-color:  #fad5db;\n",
       "            color:  #000000;\n",
       "        }#T_0eabd_row3_col0{\n",
       "            background-color:  #f8dde1;\n",
       "            color:  #000000;\n",
       "        }#T_0eabd_row3_col1{\n",
       "            background-color:  #f5e8ea;\n",
       "            color:  #000000;\n",
       "        }#T_0eabd_row3_col2{\n",
       "            background-color:  #f9d9de;\n",
       "            color:  #000000;\n",
       "        }</style><table id=\"T_0eabd_\" ><thead>    <tr>        <th class=\"blank level0\" ></th>        <th class=\"col_heading level0 col0\" >f0</th>        <th class=\"col_heading level0 col1\" >f1</th>        <th class=\"col_heading level0 col2\" >f2</th>        <th class=\"col_heading level0 col3\" >product</th>    </tr></thead><tbody>\n",
       "                <tr>\n",
       "                        <th id=\"T_0eabd_level0_row0\" class=\"row_heading level0 row0\" >f0</th>\n",
       "                        <td id=\"T_0eabd_row0_col0\" class=\"data row0 col0\" >1.000000</td>\n",
       "                        <td id=\"T_0eabd_row0_col1\" class=\"data row0 col1\" >-0.440723</td>\n",
       "                        <td id=\"T_0eabd_row0_col2\" class=\"data row0 col2\" >-0.003153</td>\n",
       "                        <td id=\"T_0eabd_row0_col3\" class=\"data row0 col3\" >0.143536</td>\n",
       "            </tr>\n",
       "            <tr>\n",
       "                        <th id=\"T_0eabd_level0_row1\" class=\"row_heading level0 row1\" >f1</th>\n",
       "                        <td id=\"T_0eabd_row1_col0\" class=\"data row1 col0\" >-0.440723</td>\n",
       "                        <td id=\"T_0eabd_row1_col1\" class=\"data row1 col1\" >1.000000</td>\n",
       "                        <td id=\"T_0eabd_row1_col2\" class=\"data row1 col2\" >0.001724</td>\n",
       "                        <td id=\"T_0eabd_row1_col3\" class=\"data row1 col3\" >-0.192356</td>\n",
       "            </tr>\n",
       "            <tr>\n",
       "                        <th id=\"T_0eabd_level0_row2\" class=\"row_heading level0 row2\" >f2</th>\n",
       "                        <td id=\"T_0eabd_row2_col0\" class=\"data row2 col0\" >-0.003153</td>\n",
       "                        <td id=\"T_0eabd_row2_col1\" class=\"data row2 col1\" >0.001724</td>\n",
       "                        <td id=\"T_0eabd_row2_col2\" class=\"data row2 col2\" >1.000000</td>\n",
       "                        <td id=\"T_0eabd_row2_col3\" class=\"data row2 col3\" >0.483663</td>\n",
       "            </tr>\n",
       "            <tr>\n",
       "                        <th id=\"T_0eabd_level0_row3\" class=\"row_heading level0 row3\" >product</th>\n",
       "                        <td id=\"T_0eabd_row3_col0\" class=\"data row3 col0\" >0.143536</td>\n",
       "                        <td id=\"T_0eabd_row3_col1\" class=\"data row3 col1\" >-0.192356</td>\n",
       "                        <td id=\"T_0eabd_row3_col2\" class=\"data row3 col2\" >0.483663</td>\n",
       "                        <td id=\"T_0eabd_row3_col3\" class=\"data row3 col3\" >1.000000</td>\n",
       "            </tr>\n",
       "    </tbody></table>"
      ],
      "text/plain": [
       "<pandas.io.formats.style.Styler at 0x7f401a3e6250>"
      ]
     },
     "execution_count": 10,
     "metadata": {},
     "output_type": "execute_result"
    }
   ],
   "source": [
    "data_1.corr().style.background_gradient(cmap=cm)\n"
   ]
  },
  {
   "cell_type": "code",
   "execution_count": 11,
   "metadata": {},
   "outputs": [
    {
     "data": {
      "text/html": [
       "<style  type=\"text/css\" >\n",
       "#T_69a94_row0_col0,#T_69a94_row1_col1,#T_69a94_row2_col2,#T_69a94_row3_col3{\n",
       "            background-color:  #ffc0cb;\n",
       "            color:  #000000;\n",
       "        }#T_69a94_row0_col1,#T_69a94_row0_col2,#T_69a94_row1_col0,#T_69a94_row1_col2,#T_69a94_row1_col3{\n",
       "            background-color:  #f3f0f0;\n",
       "            color:  #000000;\n",
       "        }#T_69a94_row0_col3{\n",
       "            background-color:  #f6e2e6;\n",
       "            color:  #000000;\n",
       "        }#T_69a94_row2_col0{\n",
       "            background-color:  #f6e1e5;\n",
       "            color:  #000000;\n",
       "        }#T_69a94_row2_col1{\n",
       "            background-color:  #f7e1e5;\n",
       "            color:  #000000;\n",
       "        }#T_69a94_row2_col3{\n",
       "            background-color:  #fad5db;\n",
       "            color:  #000000;\n",
       "        }#T_69a94_row3_col0{\n",
       "            background-color:  #f8dde1;\n",
       "            color:  #000000;\n",
       "        }#T_69a94_row3_col1{\n",
       "            background-color:  #f5e8ea;\n",
       "            color:  #000000;\n",
       "        }#T_69a94_row3_col2{\n",
       "            background-color:  #f9d9de;\n",
       "            color:  #000000;\n",
       "        }</style><table id=\"T_69a94_\" ><thead>    <tr>        <th class=\"blank level0\" ></th>        <th class=\"col_heading level0 col0\" >f0</th>        <th class=\"col_heading level0 col1\" >f1</th>        <th class=\"col_heading level0 col2\" >f2</th>        <th class=\"col_heading level0 col3\" >product</th>    </tr></thead><tbody>\n",
       "                <tr>\n",
       "                        <th id=\"T_69a94_level0_row0\" class=\"row_heading level0 row0\" >f0</th>\n",
       "                        <td id=\"T_69a94_row0_col0\" class=\"data row0 col0\" >1.000000</td>\n",
       "                        <td id=\"T_69a94_row0_col1\" class=\"data row0 col1\" >-0.440723</td>\n",
       "                        <td id=\"T_69a94_row0_col2\" class=\"data row0 col2\" >-0.003153</td>\n",
       "                        <td id=\"T_69a94_row0_col3\" class=\"data row0 col3\" >0.143536</td>\n",
       "            </tr>\n",
       "            <tr>\n",
       "                        <th id=\"T_69a94_level0_row1\" class=\"row_heading level0 row1\" >f1</th>\n",
       "                        <td id=\"T_69a94_row1_col0\" class=\"data row1 col0\" >-0.440723</td>\n",
       "                        <td id=\"T_69a94_row1_col1\" class=\"data row1 col1\" >1.000000</td>\n",
       "                        <td id=\"T_69a94_row1_col2\" class=\"data row1 col2\" >0.001724</td>\n",
       "                        <td id=\"T_69a94_row1_col3\" class=\"data row1 col3\" >-0.192356</td>\n",
       "            </tr>\n",
       "            <tr>\n",
       "                        <th id=\"T_69a94_level0_row2\" class=\"row_heading level0 row2\" >f2</th>\n",
       "                        <td id=\"T_69a94_row2_col0\" class=\"data row2 col0\" >-0.003153</td>\n",
       "                        <td id=\"T_69a94_row2_col1\" class=\"data row2 col1\" >0.001724</td>\n",
       "                        <td id=\"T_69a94_row2_col2\" class=\"data row2 col2\" >1.000000</td>\n",
       "                        <td id=\"T_69a94_row2_col3\" class=\"data row2 col3\" >0.483663</td>\n",
       "            </tr>\n",
       "            <tr>\n",
       "                        <th id=\"T_69a94_level0_row3\" class=\"row_heading level0 row3\" >product</th>\n",
       "                        <td id=\"T_69a94_row3_col0\" class=\"data row3 col0\" >0.143536</td>\n",
       "                        <td id=\"T_69a94_row3_col1\" class=\"data row3 col1\" >-0.192356</td>\n",
       "                        <td id=\"T_69a94_row3_col2\" class=\"data row3 col2\" >0.483663</td>\n",
       "                        <td id=\"T_69a94_row3_col3\" class=\"data row3 col3\" >1.000000</td>\n",
       "            </tr>\n",
       "    </tbody></table>"
      ],
      "text/plain": [
       "<pandas.io.formats.style.Styler at 0x7f409c6bc8e0>"
      ]
     },
     "execution_count": 11,
     "metadata": {},
     "output_type": "execute_result"
    }
   ],
   "source": [
    "data_2.corr().style.background_gradient(cmap=cm)\n"
   ]
  },
  {
   "cell_type": "code",
   "execution_count": 12,
   "metadata": {},
   "outputs": [
    {
     "data": {
      "image/png": "[encoded data removed]",
      "text/plain": [
       "<Figure size 864x504 with 1 Axes>"
      ]
     },
     "metadata": {
      "needs_background": "light"
     },
     "output_type": "display_data"
    }
   ],
   "source": [
    "pr0 = data_0['product'].plot(kind='hist',\n",
    "                             figsize=(12,7),\n",
    "                             grid=True,\n",
    "                             legend=True,\n",
    "                             alpha=0.5,\n",
    "                             label='1 регион');\n",
    "pr1 = data_1['product'].plot(kind='hist',\n",
    "                             figsize=(12,7),\n",
    "                             grid=True,\n",
    "                             legend=True,\n",
    "                             alpha=0.5,\n",
    "                             label='2 регион');\n",
    "pr2 = data_2['product'].plot(kind='hist',\n",
    "                             figsize=(12,7),\n",
    "                             grid=True,\n",
    "                             legend=True,\n",
    "                             alpha=0.5,\n",
    "                             label='3 регион');\n",
    "plt.xlabel('Распределение скважин по запасам нефти, 1');\n",
    "plt.ylabel('Запасы нефти в скважине, тыс. баррелей');"
   ]
  },
  {
   "cell_type": "code",
   "execution_count": 13,
   "metadata": {},
   "outputs": [
    {
     "data": {
      "image/png": "[encoded data removed]",
      "text/plain": [
       "<Figure size 432x288 with 4 Axes>"
      ]
     },
     "metadata": {
      "needs_background": "light"
     },
     "output_type": "display_data"
    }
   ],
   "source": [
    "data_0.hist(bins=15);"
   ]
  },
  {
   "cell_type": "code",
   "execution_count": 30,
   "metadata": {},
   "outputs": [
    {
     "data": {
      "image/png": "[encoded data removed]",
      "text/plain": [
       "<Figure size 432x288 with 4 Axes>"
      ]
     },
     "metadata": {
      "needs_background": "light"
     },
     "output_type": "display_data"
    }
   ],
   "source": [
    "data_1.hist(bins=15);"
   ]
  },
  {
   "cell_type": "code",
   "execution_count": 31,
   "metadata": {},
   "outputs": [
    {
     "data": {
      "image/png": "[encoded data removed]",
      "text/plain": [
       "<Figure size 432x288 with 4 Axes>"
      ]
     },
     "metadata": {
      "needs_background": "light"
     },
     "output_type": "display_data"
    }
   ],
   "source": [
    "data_2.hist(bins=15);"
   ]
  },
  {
   "cell_type": "markdown",
   "metadata": {},
   "source": [
    "Прямая корреляция очень близка к 1 во втором регионе (связь принзнака f1 и product).\n",
    "\n",
    "В принципе, на мой взгляд, нет каких-то явных пробелов в данных, поэтому можем идти дальше."
   ]
  },
  {
   "cell_type": "code",
   "execution_count": 14,
   "metadata": {},
   "outputs": [],
   "source": [
    "#удалим колонку с id, т.к. она не несет для нас смысловой нагрузки\n",
    "#и в дальнейшем она может вызвать ошибки при обучении\n",
    "data_0 = data_0.drop(columns = ['id'])\n",
    "data_1 = data_1.drop(columns = ['id'])\n",
    "data_2 = data_2.drop(columns = ['id'])"
   ]
  },
  {
   "cell_type": "markdown",
   "metadata": {},
   "source": [
    "## Обучение и проверка модели"
   ]
  },
  {
   "cell_type": "code",
   "execution_count": 15,
   "metadata": {},
   "outputs": [],
   "source": [
    "#разобьем данные на обучающие и на валидационные выборки\n",
    "features_0 = data_0.drop(['product'], axis=1)\n",
    "features_1 = data_1.drop(['product'], axis=1)\n",
    "features_2 = data_2.drop(['product'], axis=1)\n",
    "target_0 = data_0['product']\n",
    "target_1 = data_1['product']\n",
    "target_2 = data_2['product']\n",
    "\n",
    "features_train_0, features_valid_0, target_train_0, target_valid_0 = train_test_split( \n",
    "    features_0, target_0, test_size=0.25, random_state=12345)\n",
    "\n",
    "features_train_1, features_valid_1, target_train_1, target_valid_1 = train_test_split( \n",
    "    features_1, target_1, test_size=0.25, random_state=12345)\n",
    "\n",
    "features_train_2, features_valid_2, target_train_2, target_valid_2 = train_test_split( \n",
    "    features_2, target_2, test_size=0.25, random_state=12345)"
   ]
  },
  {
   "cell_type": "code",
   "execution_count": 16,
   "metadata": {},
   "outputs": [
    {
     "name": "stdout",
     "output_type": "stream",
     "text": [
      "Среднеквадратичное отклонение равно: 37.58\n",
      "Точность модели равнf: 27.99%\n"
     ]
    }
   ],
   "source": [
    "#обучим модель по тренировочной выборке первого региона\n",
    "#посмотрим на среднеквадратичное отклонение предсказания\n",
    "model_0 = LinearRegression()\n",
    "model_0.fit(features_train_0, target_train_0)\n",
    "predict_0 = model_0.predict(features_valid_0)\n",
    "rmse_0 = mean_squared_error(target_valid_0, predict_0)**0.5\n",
    "print('Среднеквадратичное отклонение равно: %.2f' % rmse_0)\n",
    "result_0 = model_0.score(features_valid_0, target_valid_0)\n",
    "print('Точность модели равнf: {:.2%}'.format(result_0))"
   ]
  },
  {
   "cell_type": "code",
   "execution_count": 17,
   "metadata": {},
   "outputs": [
    {
     "name": "stdout",
     "output_type": "stream",
     "text": [
      "Среднеквадратичное отклонение равно: 37.58\n",
      "Точность модели равна: 27.99%\n"
     ]
    }
   ],
   "source": [
    "#обучим модель по тренировочной выборке второго региона\n",
    "#посмотрим на среднеквадратичное отклонение предсказания\n",
    "model_1 = LinearRegression()\n",
    "model_1.fit(features_train_1, target_train_1)\n",
    "predict_1 = model_1.predict(features_valid_1)\n",
    "rmse_1 = mean_squared_error(target_valid_1, predict_1)**0.5\n",
    "print('Среднеквадратичное отклонение равно: %.2f' % rmse_1)\n",
    "result_1 = model_1.score(features_valid_1, target_valid_1)\n",
    "print('Точность модели равна: {:.2%}'.format(result_1))"
   ]
  },
  {
   "cell_type": "code",
   "execution_count": 18,
   "metadata": {},
   "outputs": [
    {
     "name": "stdout",
     "output_type": "stream",
     "text": [
      "Среднеквадратичное отклонение равно: 37.58\n",
      "Точность модели равна: 27.99%\n"
     ]
    }
   ],
   "source": [
    "#обучим модель по тренировочной выборке третьего региона\n",
    "#посмотрим на среднеквадратичное отклонение предсказания\n",
    "model_2 = LinearRegression()\n",
    "model_2.fit(features_train_2, target_train_2)\n",
    "predict_2 = model_2.predict(features_valid_2)\n",
    "rmse_2 = mean_squared_error(target_valid_2, predict_2)**0.5\n",
    "print('Среднеквадратичное отклонение равно: %.2f' % rmse_2)\n",
    "result_2 = model_2.score(features_valid_2, target_valid_2)\n",
    "print('Точность модели равна: {:.2%}'.format(result_2))"
   ]
  },
  {
   "cell_type": "markdown",
   "metadata": {},
   "source": [
    "Предсказания сделанные по валидационным признакам хранятся в переменных predict_0, predict_1, predict_2. Правильные валидационные данные хранятся в переменных target_valid_0, target_valid_1, target_valid_2.\n",
    "\n",
    "Как мы видим из расчетов - модель обученная по втрому региону обладает большей точностью, и меньшей среднеквадратичной ошибкой. Скорее всего это связано с тем что данные, на которых обучалась модель, имеют малый разброс."
   ]
  },
  {
   "cell_type": "code",
   "execution_count": 19,
   "metadata": {},
   "outputs": [
    {
     "data": {
      "image/png": "[encoded data removed]",
      "text/plain": [
       "<Figure size 432x288 with 1 Axes>"
      ]
     },
     "metadata": {
      "needs_background": "light"
     },
     "output_type": "display_data"
    }
   ],
   "source": [
    "sns.boxplot(data=[data_0['product'], data_1['product'], data_2['product']])\n",
    "#rcParams['figure.figsize'] = 5, 10\n",
    "plt.xlabel('Номер региона')\n",
    "plt.ylabel('Кол-во нефти, тыс. баррелей')\n",
    "plt.show()"
   ]
  },
  {
   "cell_type": "markdown",
   "metadata": {},
   "source": [
    "Как мы видим из графика, действительно - во 2 регионе разброс данных меньше, чем в друх других.\n",
    "\n",
    "И так... Модели обучены, предсказания сделаны."
   ]
  },
  {
   "cell_type": "markdown",
   "metadata": {},
   "source": [
    "## Подготовка к расчёту прибыли"
   ]
  },
  {
   "cell_type": "markdown",
   "metadata": {},
   "source": [
    "Бюджет на разработку скважин в регионе — 10 млрд рублей. (budget)\n",
    "При нынешних ценах один баррель сырья приносит 450 рублей дохода. Доход с каждой единицы продукта составляет 450 тыс. рублей, поскольку объём указан в тысячах баррелей. (barrel_cost)\n",
    "После оценки рисков нужно оставить лишь те регионы, в которых вероятность убытков меньше 2.5%. Среди них выбирают регион с наибольшей средней прибылью. probability_of_losses"
   ]
  },
  {
   "cell_type": "code",
   "execution_count": 20,
   "metadata": {},
   "outputs": [],
   "source": [
    "#для всех ключевых значений созданы константы Python\n",
    "budget = 10_000_000_000\n",
    "barrel_cost = 450_000\n",
    "probability_of_losses = 0.025\n",
    "top_200 = 200"
   ]
  },
  {
   "cell_type": "code",
   "execution_count": 21,
   "metadata": {},
   "outputs": [
    {
     "data": {
      "text/plain": [
       "50000000.0"
      ]
     },
     "execution_count": 21,
     "metadata": {},
     "output_type": "execute_result"
    }
   ],
   "source": [
    "budget_for_one = budget/top_200\n",
    "budget_for_one"
   ]
  },
  {
   "cell_type": "markdown",
   "metadata": {},
   "source": [
    "Поскольку перед нами стоит задача на разработку 200 скважин в регионе - значит на разработку каждой скважины требуется 50 млн. (budget_for_one)\n",
    "\n",
    "Таким образом можно сказать, что для разработки подходят скважины, имеющие нефть, суммарная стоимость которой превышает 50 млн. руб."
   ]
  },
  {
   "cell_type": "code",
   "execution_count": 22,
   "metadata": {},
   "outputs": [
    {
     "name": "stdout",
     "output_type": "stream",
     "text": [
      "Средний объем нефти в 1 регионе 92.50000000000001\n",
      "Средний объем нефти в 2 регионе 92.50000000000001\n",
      "Средний объем нефти в 3 регионе 92.50000000000001\n"
     ]
    }
   ],
   "source": [
    "print('Средний объем нефти в 1 регионе', data_0['product'].mean())\n",
    "print('Средний объем нефти в 2 регионе', target_1.mean())\n",
    "print('Средний объем нефти в 3 регионе', target_2.mean())"
   ]
  },
  {
   "cell_type": "code",
   "execution_count": 23,
   "metadata": {},
   "outputs": [
    {
     "data": {
      "text/plain": [
       "111.11111111111111"
      ]
     },
     "execution_count": 23,
     "metadata": {},
     "output_type": "execute_result"
    }
   ],
   "source": [
    "min_barrel_need = budget_for_one/barrel_cost\n",
    "min_barrel_need"
   ]
  },
  {
   "cell_type": "markdown",
   "metadata": {},
   "source": [
    "Из расчета видно что минимальное достаточное количество нефти для окупаемости скважины равно 111 тыс. баррелей нефти.\n",
    "\n",
    "Средний объем нефти в регионах ниже, чем необходимый для безубыточной разработки.\n",
    "\n",
    "Ранее была показана диаграмма разброса (ящик с усами), на котором виден диапазон разброса значений количества нефти в регионах. Поэтому нельзя сказать что регионы будут 100% убыточны при разработке лишь 200 скважин, а не всего региона.\n",
    "\n",
    "Расчет прибыли региона будет высчитываться по формуле:\n",
    "\n",
    "прибыль = кол-во тыс. баррелей добытых в регионе стоимость 1 тыс. баррелей - бюджет затраченный на разработку скважин в регионе*"
   ]
  },
  {
   "cell_type": "code",
   "execution_count": 24,
   "metadata": {},
   "outputs": [],
   "source": [
    "def profit(target_valid, predictions_valid, top_200):\n",
    "    \n",
    "    target = target_valid.reset_index(drop = True)\n",
    "    predictions = pd.Series(predictions_valid, index = target.index)\n",
    "    best_points = target[predictions.sort_values(ascending = False).index][:top_200]\n",
    "    \n",
    "    return (best_points.sum() * barrel_cost - budget) / 1000000"
   ]
  },
  {
   "cell_type": "markdown",
   "metadata": {},
   "source": [
    "## Расчёт прибыли и рисков "
   ]
  },
  {
   "cell_type": "markdown",
   "metadata": {},
   "source": [
    "Отсортируем предсказания по убыванию, таким образом чтобы первые 200 значений были самыми большими из них (предсказаний).\n",
    "\n",
    "Посчитаем суммарное кол-во нефти в них и прибыль которую они могу принести."
   ]
  },
  {
   "cell_type": "code",
   "execution_count": 25,
   "metadata": {},
   "outputs": [
    {
     "name": "stdout",
     "output_type": "stream",
     "text": [
      "Объем нефти в 1 регионе равен 18260 тыс. баррелей\n",
      "Объем нефти в 1 регионе равен 18260 тыс. баррелей\n",
      "Объем нефти в 1 регионе равен 18260 тыс. баррелей\n"
     ]
    }
   ],
   "source": [
    "#predict_0.sorted()\n",
    "#predict_0\n",
    "\n",
    "sum_bar_0 = predict_0[:200].sum()\n",
    "sum_bar_1 = predict_1[:200].sum()\n",
    "sum_bar_2 = predict_2[:200].sum()\n",
    "\n",
    "print('Объем нефти в 1 регионе равен %.0f' % sum_bar_0, 'тыс. баррелей')\n",
    "print('Объем нефти в 1 регионе равен %.0f' % sum_bar_1, 'тыс. баррелей')\n",
    "print('Объем нефти в 1 регионе равен %.0f' % sum_bar_2, 'тыс. баррелей')"
   ]
  },
  {
   "cell_type": "markdown",
   "metadata": {},
   "source": [
    "Если я правильно понял, то вероятность убытка это отношение количества значений прибыли (count), ко всем (1000 выборок)."
   ]
  },
  {
   "cell_type": "code",
   "execution_count": 26,
   "metadata": {},
   "outputs": [],
   "source": [
    "def bootstrap1000(target, predict, n):\n",
    "    state = np.random.RandomState(12345)\n",
    "    profits = []\n",
    "    count = 0\n",
    "\n",
    "    for i in range(1000):\n",
    "        target_subsample = target.reset_index(drop= True).sample(n, random_state=state, replace=True)\n",
    "        probs_subsample = predict[target_subsample.index]\n",
    "        #сортируем список по запасам нефти\n",
    "        profits.append(profit(target_subsample,\n",
    "                              probs_subsample, top_200))#заполняем прибыть\n",
    "    profits = pd.Series(profits)\n",
    "    \n",
    "    count = profits[profits<0].count()/1000\n",
    "\n",
    "    lower = profits.quantile(0.025)\n",
    "    upper = profits.quantile(.975)\n",
    "\n",
    "    print('Средняя прибыль в регионе равна: %.2f' % (profits.mean()), 'мл. руб.')\n",
    "    print('95% доверительный интервал лежит в диапазоне: {:.2f}'.format(lower),\n",
    "          '- {:.2f}'.format(upper))\n",
    "    print('Вероятность убытка равна: {:.2%}'.format(count))"
   ]
  },
  {
   "cell_type": "markdown",
   "metadata": {},
   "source": [
    "Для первого региона:"
   ]
  },
  {
   "cell_type": "code",
   "execution_count": 27,
   "metadata": {},
   "outputs": [
    {
     "name": "stdout",
     "output_type": "stream",
     "text": [
      "Средняя прибыль в регионе равна: 396.16 мл. руб.\n",
      "95% доверительный интервал лежит в диапазоне: -111.22 - 909.77\n",
      "Вероятность убытка равна: 6.90%\n"
     ]
    }
   ],
   "source": [
    "bootstrap1000(target_valid_0, predict_0, 500)"
   ]
  },
  {
   "cell_type": "markdown",
   "metadata": {},
   "source": [
    "Для второго региона:"
   ]
  },
  {
   "cell_type": "code",
   "execution_count": 28,
   "metadata": {},
   "outputs": [
    {
     "name": "stdout",
     "output_type": "stream",
     "text": [
      "Средняя прибыль в регионе равна: 396.16 мл. руб.\n",
      "95% доверительный интервал лежит в диапазоне: -111.22 - 909.77\n",
      "Вероятность убытка равна: 6.90%\n"
     ]
    }
   ],
   "source": [
    "bootstrap1000(target_valid_1, predict_1, 500)"
   ]
  },
  {
   "cell_type": "markdown",
   "metadata": {},
   "source": [
    "Для третьего региона:"
   ]
  },
  {
   "cell_type": "code",
   "execution_count": 29,
   "metadata": {},
   "outputs": [
    {
     "name": "stdout",
     "output_type": "stream",
     "text": [
      "Средняя прибыль в регионе равна: 396.16 мл. руб.\n",
      "95% доверительный интервал лежит в диапазоне: -111.22 - 909.77\n",
      "Вероятность убытка равна: 6.90%\n"
     ]
    }
   ],
   "source": [
    "bootstrap1000(target_valid_2, predict_2, 500)"
   ]
  },
  {
   "cell_type": "markdown",
   "metadata": {},
   "source": [
    "# Вывод\n",
    "Подготовил данные. Проверил на наличие дубликатов, пропусков, посмотрел форматы данных. Изучили данные.\n",
    "Разбил данные на обучающую и валидационную выборку. Обучил модель.\n",
    "Рассчитал среднеквадратичное отклонение предсказаний от валидационной выборки\n",
    "Написал функции расчета прибыли и Bootstrap\n",
    "Сравнил средний объем нефти в регионе с минимальным объемом при котором разработка скважины окупала бы сама себя (расстроился, в среднем во всех регионах этот показатель ниже, чем хотелось бы)\n",
    "Посмотрел на разброс объемов нефти в скважинах, в 1 регионе он ощутимо ниже\n",
    "Процедурой Bootstrap разбил выборки по 500 значений, из этих 500, сортировкой, взял 200 с наибольшим показателем объема в скважине. Расчитал суммарный доход, вычел из него бюджет затраченный на разработку - получил прибыль (или убыток, если значение отрицательное). И так 1000 раз...\n",
    "Взял отношение количества значений убытка ко всех значениям (1000 группировок)\n",
    "Расчитал среднюю прибыль в регионе, доверительный интервал и вероятность убытка (порядок действий описал выше)\n",
    "\n",
    "Подводя итог могу сказать, что наимее потенциально убыточно было бы вложить бюджет в развитие добычи во 2 регионе, т.к там самая низкая вероятность убытка, при этом самая высокая средняя прибыль."
   ]
  },
  {
   "cell_type": "code",
   "execution_count": null,
   "metadata": {},
   "outputs": [],
   "source": []
  }
 ],
 "metadata": {
  "ExecuteTimeLog": [
   {
    "duration": 426,
    "start_time": "2023-09-15T14:03:38.345Z"
   },
   {
    "duration": 826,
    "start_time": "2023-09-15T14:07:22.771Z"
   },
   {
    "duration": 94,
    "start_time": "2023-09-15T14:10:58.011Z"
   },
   {
    "duration": 1147,
    "start_time": "2023-09-15T14:11:13.493Z"
   },
   {
    "duration": 2620,
    "start_time": "2023-09-15T14:12:20.875Z"
   },
   {
    "duration": 2956,
    "start_time": "2023-09-18T00:35:04.239Z"
   },
   {
    "duration": 1127,
    "start_time": "2023-09-18T00:35:07.197Z"
   },
   {
    "duration": 15,
    "start_time": "2023-09-18T00:35:08.326Z"
   },
   {
    "duration": 42,
    "start_time": "2023-09-18T00:35:08.343Z"
   },
   {
    "duration": 50,
    "start_time": "2023-09-18T00:35:08.387Z"
   },
   {
    "duration": 188,
    "start_time": "2023-09-18T00:35:08.440Z"
   },
   {
    "duration": 94,
    "start_time": "2023-09-18T00:35:08.629Z"
   },
   {
    "duration": 27,
    "start_time": "2023-09-18T00:35:08.725Z"
   },
   {
    "duration": 25,
    "start_time": "2023-09-18T00:35:08.754Z"
   },
   {
    "duration": 375,
    "start_time": "2023-09-18T00:35:08.782Z"
   },
   {
    "duration": 20,
    "start_time": "2023-09-18T00:35:09.159Z"
   },
   {
    "duration": 66,
    "start_time": "2023-09-18T00:35:09.181Z"
   },
   {
    "duration": 65,
    "start_time": "2023-09-18T00:35:09.249Z"
   },
   {
    "duration": 208,
    "start_time": "2023-09-18T00:35:09.315Z"
   },
   {
    "duration": 190,
    "start_time": "2023-09-18T00:35:09.527Z"
   },
   {
    "duration": 310,
    "start_time": "2023-09-18T00:35:09.721Z"
   },
   {
    "duration": 3,
    "start_time": "2023-09-18T00:35:10.033Z"
   },
   {
    "duration": 22,
    "start_time": "2023-09-18T00:35:10.037Z"
   },
   {
    "duration": 14,
    "start_time": "2023-09-18T00:35:10.061Z"
   },
   {
    "duration": 10,
    "start_time": "2023-09-18T00:35:10.076Z"
   },
   {
    "duration": 16,
    "start_time": "2023-09-18T00:35:10.088Z"
   },
   {
    "duration": 23,
    "start_time": "2023-09-18T00:35:10.106Z"
   },
   {
    "duration": 7,
    "start_time": "2023-09-18T00:35:10.131Z"
   },
   {
    "duration": 1120,
    "start_time": "2023-09-18T00:35:10.140Z"
   },
   {
    "duration": 1089,
    "start_time": "2023-09-18T00:35:11.262Z"
   },
   {
    "duration": 1161,
    "start_time": "2023-09-18T00:35:12.352Z"
   },
   {
    "duration": 59,
    "start_time": "2023-09-18T11:46:37.826Z"
   },
   {
    "duration": 1720,
    "start_time": "2023-09-18T11:46:50.391Z"
   },
   {
    "duration": 1064,
    "start_time": "2023-09-18T11:46:52.113Z"
   },
   {
    "duration": 17,
    "start_time": "2023-09-18T11:46:53.179Z"
   },
   {
    "duration": 61,
    "start_time": "2023-09-18T11:46:53.198Z"
   },
   {
    "duration": 25,
    "start_time": "2023-09-18T11:46:53.261Z"
   },
   {
    "duration": 191,
    "start_time": "2023-09-18T11:46:53.288Z"
   },
   {
    "duration": 77,
    "start_time": "2023-09-18T11:46:53.481Z"
   },
   {
    "duration": 24,
    "start_time": "2023-09-18T11:46:53.560Z"
   },
   {
    "duration": 23,
    "start_time": "2023-09-18T11:46:53.586Z"
   },
   {
    "duration": 384,
    "start_time": "2023-09-18T11:46:53.611Z"
   },
   {
    "duration": 149,
    "start_time": "2023-09-18T11:46:53.997Z"
   },
   {
    "duration": 1,
    "start_time": "2023-09-18T11:46:54.157Z"
   },
   {
    "duration": 0,
    "start_time": "2023-09-18T11:46:54.159Z"
   },
   {
    "duration": 0,
    "start_time": "2023-09-18T11:46:54.162Z"
   },
   {
    "duration": 0,
    "start_time": "2023-09-18T11:46:54.164Z"
   },
   {
    "duration": 0,
    "start_time": "2023-09-18T11:46:54.166Z"
   },
   {
    "duration": 0,
    "start_time": "2023-09-18T11:46:54.167Z"
   },
   {
    "duration": 0,
    "start_time": "2023-09-18T11:46:54.168Z"
   },
   {
    "duration": 0,
    "start_time": "2023-09-18T11:46:54.170Z"
   },
   {
    "duration": 0,
    "start_time": "2023-09-18T11:46:54.172Z"
   },
   {
    "duration": 0,
    "start_time": "2023-09-18T11:46:54.173Z"
   },
   {
    "duration": 0,
    "start_time": "2023-09-18T11:46:54.175Z"
   },
   {
    "duration": 0,
    "start_time": "2023-09-18T11:46:54.178Z"
   },
   {
    "duration": 0,
    "start_time": "2023-09-18T11:46:54.179Z"
   },
   {
    "duration": 0,
    "start_time": "2023-09-18T11:46:54.181Z"
   },
   {
    "duration": 0,
    "start_time": "2023-09-18T11:46:54.182Z"
   },
   {
    "duration": 0,
    "start_time": "2023-09-18T11:46:54.183Z"
   },
   {
    "duration": 37,
    "start_time": "2023-09-18T11:47:49.017Z"
   },
   {
    "duration": 13,
    "start_time": "2023-09-18T11:53:10.624Z"
   },
   {
    "duration": 20,
    "start_time": "2023-09-18T11:53:37.928Z"
   },
   {
    "duration": 4988,
    "start_time": "2023-09-18T11:54:03.017Z"
   },
   {
    "duration": 5095,
    "start_time": "2023-09-18T11:54:54.372Z"
   },
   {
    "duration": 5108,
    "start_time": "2023-09-18T11:55:06.293Z"
   },
   {
    "duration": 354,
    "start_time": "2023-09-18T11:57:19.548Z"
   },
   {
    "duration": 5940,
    "start_time": "2023-09-18T11:57:37.879Z"
   },
   {
    "duration": 5684,
    "start_time": "2023-09-18T11:57:43.822Z"
   },
   {
    "duration": 5210,
    "start_time": "2023-09-18T11:57:49.509Z"
   },
   {
    "duration": 13,
    "start_time": "2023-09-18T12:03:06.837Z"
   },
   {
    "duration": 731,
    "start_time": "2023-09-18T12:05:13.037Z"
   },
   {
    "duration": 361,
    "start_time": "2023-09-18T12:05:50.097Z"
   },
   {
    "duration": 378,
    "start_time": "2023-09-18T12:05:59.408Z"
   },
   {
    "duration": 51,
    "start_time": "2023-09-19T07:51:24.325Z"
   },
   {
    "duration": 1617,
    "start_time": "2023-09-19T07:51:50.964Z"
   },
   {
    "duration": 1035,
    "start_time": "2023-09-19T07:51:52.583Z"
   },
   {
    "duration": 21,
    "start_time": "2023-09-19T07:51:53.620Z"
   },
   {
    "duration": 98,
    "start_time": "2023-09-19T07:51:53.642Z"
   },
   {
    "duration": 23,
    "start_time": "2023-09-19T07:51:53.742Z"
   },
   {
    "duration": 152,
    "start_time": "2023-09-19T07:51:53.767Z"
   },
   {
    "duration": 60,
    "start_time": "2023-09-19T07:51:53.921Z"
   },
   {
    "duration": 36,
    "start_time": "2023-09-19T07:51:53.982Z"
   },
   {
    "duration": 19,
    "start_time": "2023-09-19T07:51:54.020Z"
   },
   {
    "duration": 364,
    "start_time": "2023-09-19T07:51:54.040Z"
   },
   {
    "duration": 438,
    "start_time": "2023-09-19T07:51:54.406Z"
   },
   {
    "duration": 16,
    "start_time": "2023-09-19T07:51:54.846Z"
   },
   {
    "duration": 62,
    "start_time": "2023-09-19T07:51:54.864Z"
   },
   {
    "duration": 276,
    "start_time": "2023-09-19T07:51:54.929Z"
   },
   {
    "duration": 108,
    "start_time": "2023-09-19T07:51:55.208Z"
   },
   {
    "duration": 192,
    "start_time": "2023-09-19T07:51:55.318Z"
   },
   {
    "duration": 318,
    "start_time": "2023-09-19T07:51:55.513Z"
   },
   {
    "duration": 2,
    "start_time": "2023-09-19T07:51:55.834Z"
   },
   {
    "duration": 29,
    "start_time": "2023-09-19T07:51:55.838Z"
   },
   {
    "duration": 17,
    "start_time": "2023-09-19T07:51:55.869Z"
   },
   {
    "duration": 22,
    "start_time": "2023-09-19T07:51:55.887Z"
   },
   {
    "duration": 176,
    "start_time": "2023-09-19T07:51:55.911Z"
   },
   {
    "duration": 47,
    "start_time": "2023-09-19T07:51:56.089Z"
   },
   {
    "duration": 28,
    "start_time": "2023-09-19T07:51:56.138Z"
   },
   {
    "duration": 1102,
    "start_time": "2023-09-19T07:51:56.168Z"
   },
   {
    "duration": 1018,
    "start_time": "2023-09-19T07:51:57.271Z"
   },
   {
    "duration": 1063,
    "start_time": "2023-09-19T07:51:58.290Z"
   },
   {
    "duration": 22,
    "start_time": "2023-09-19T07:52:22.506Z"
   },
   {
    "duration": 2162,
    "start_time": "2023-09-19T07:58:23.591Z"
   },
   {
    "duration": 1698,
    "start_time": "2023-09-19T07:58:48.009Z"
   },
   {
    "duration": 824,
    "start_time": "2023-09-19T07:58:49.709Z"
   },
   {
    "duration": 38,
    "start_time": "2023-09-19T07:58:50.535Z"
   },
   {
    "duration": 65,
    "start_time": "2023-09-19T07:58:50.575Z"
   },
   {
    "duration": 25,
    "start_time": "2023-09-19T07:58:50.643Z"
   },
   {
    "duration": 78,
    "start_time": "2023-09-19T07:58:50.670Z"
   },
   {
    "duration": 181,
    "start_time": "2023-09-19T07:58:50.750Z"
   },
   {
    "duration": 99,
    "start_time": "2023-09-19T07:58:50.933Z"
   },
   {
    "duration": 21,
    "start_time": "2023-09-19T07:58:51.034Z"
   },
   {
    "duration": 39,
    "start_time": "2023-09-19T07:58:51.057Z"
   },
   {
    "duration": 370,
    "start_time": "2023-09-19T07:58:51.102Z"
   },
   {
    "duration": 416,
    "start_time": "2023-09-19T07:58:51.474Z"
   },
   {
    "duration": 28,
    "start_time": "2023-09-19T07:58:51.892Z"
   },
   {
    "duration": 150,
    "start_time": "2023-09-19T07:58:51.924Z"
   },
   {
    "duration": 43,
    "start_time": "2023-09-19T07:58:52.076Z"
   },
   {
    "duration": 201,
    "start_time": "2023-09-19T07:58:52.201Z"
   },
   {
    "duration": 197,
    "start_time": "2023-09-19T07:58:52.404Z"
   },
   {
    "duration": 240,
    "start_time": "2023-09-19T07:58:52.604Z"
   },
   {
    "duration": 3,
    "start_time": "2023-09-19T07:58:52.847Z"
   },
   {
    "duration": 28,
    "start_time": "2023-09-19T07:58:52.851Z"
   },
   {
    "duration": 41,
    "start_time": "2023-09-19T07:58:52.881Z"
   },
   {
    "duration": 39,
    "start_time": "2023-09-19T07:58:52.924Z"
   },
   {
    "duration": 12,
    "start_time": "2023-09-19T07:58:52.965Z"
   },
   {
    "duration": 18,
    "start_time": "2023-09-19T07:58:52.979Z"
   },
   {
    "duration": 16,
    "start_time": "2023-09-19T07:58:52.999Z"
   },
   {
    "duration": 1170,
    "start_time": "2023-09-19T07:58:53.017Z"
   },
   {
    "duration": 1274,
    "start_time": "2023-09-19T07:58:54.189Z"
   },
   {
    "duration": 1135,
    "start_time": "2023-09-19T07:58:55.465Z"
   },
   {
    "duration": 2096,
    "start_time": "2023-09-19T07:59:41.335Z"
   },
   {
    "duration": 3511,
    "start_time": "2023-09-19T08:00:32.838Z"
   },
   {
    "duration": 1795,
    "start_time": "2023-09-19T08:00:48.584Z"
   },
   {
    "duration": 934,
    "start_time": "2023-09-19T08:00:50.382Z"
   },
   {
    "duration": 38,
    "start_time": "2023-09-19T08:00:51.319Z"
   },
   {
    "duration": 88,
    "start_time": "2023-09-19T08:00:51.359Z"
   },
   {
    "duration": 35,
    "start_time": "2023-09-19T08:00:51.449Z"
   },
   {
    "duration": 77,
    "start_time": "2023-09-19T08:00:51.487Z"
   },
   {
    "duration": 59,
    "start_time": "2023-09-19T08:00:51.566Z"
   },
   {
    "duration": 192,
    "start_time": "2023-09-19T08:00:51.627Z"
   },
   {
    "duration": 64,
    "start_time": "2023-09-19T08:00:51.821Z"
   },
   {
    "duration": 34,
    "start_time": "2023-09-19T08:00:51.887Z"
   },
   {
    "duration": 24,
    "start_time": "2023-09-19T08:00:51.923Z"
   },
   {
    "duration": 361,
    "start_time": "2023-09-19T08:00:51.949Z"
   },
   {
    "duration": 396,
    "start_time": "2023-09-19T08:00:52.313Z"
   },
   {
    "duration": 20,
    "start_time": "2023-09-19T08:00:52.712Z"
   },
   {
    "duration": 168,
    "start_time": "2023-09-19T08:00:52.735Z"
   },
   {
    "duration": 25,
    "start_time": "2023-09-19T08:00:52.905Z"
   },
   {
    "duration": 118,
    "start_time": "2023-09-19T08:00:53.002Z"
   },
   {
    "duration": 186,
    "start_time": "2023-09-19T08:00:53.123Z"
   },
   {
    "duration": 399,
    "start_time": "2023-09-19T08:00:53.312Z"
   },
   {
    "duration": 4,
    "start_time": "2023-09-19T08:00:53.714Z"
   },
   {
    "duration": 108,
    "start_time": "2023-09-19T08:00:53.720Z"
   },
   {
    "duration": 103,
    "start_time": "2023-09-19T08:00:53.830Z"
   },
   {
    "duration": 56,
    "start_time": "2023-09-19T08:00:53.935Z"
   },
   {
    "duration": 88,
    "start_time": "2023-09-19T08:00:53.994Z"
   },
   {
    "duration": 29,
    "start_time": "2023-09-19T08:00:54.083Z"
   },
   {
    "duration": 37,
    "start_time": "2023-09-19T08:00:54.114Z"
   },
   {
    "duration": 1305,
    "start_time": "2023-09-19T08:00:54.153Z"
   },
   {
    "duration": 1124,
    "start_time": "2023-09-19T08:00:55.460Z"
   },
   {
    "duration": 1115,
    "start_time": "2023-09-19T08:00:56.586Z"
   },
   {
    "duration": 2165,
    "start_time": "2023-09-19T08:03:11.894Z"
   },
   {
    "duration": 1433,
    "start_time": "2023-09-19T08:03:25.752Z"
   },
   {
    "duration": 916,
    "start_time": "2023-09-19T08:03:27.188Z"
   },
   {
    "duration": 30,
    "start_time": "2023-09-19T08:03:28.106Z"
   },
   {
    "duration": 64,
    "start_time": "2023-09-19T08:03:28.138Z"
   },
   {
    "duration": 24,
    "start_time": "2023-09-19T08:03:28.204Z"
   },
   {
    "duration": 51,
    "start_time": "2023-09-19T08:03:28.230Z"
   },
   {
    "duration": 65,
    "start_time": "2023-09-19T08:03:28.282Z"
   },
   {
    "duration": 173,
    "start_time": "2023-09-19T08:03:28.349Z"
   },
   {
    "duration": 66,
    "start_time": "2023-09-19T08:03:28.524Z"
   },
   {
    "duration": 25,
    "start_time": "2023-09-19T08:03:28.603Z"
   },
   {
    "duration": 27,
    "start_time": "2023-09-19T08:03:28.630Z"
   },
   {
    "duration": 360,
    "start_time": "2023-09-19T08:03:28.660Z"
   },
   {
    "duration": 373,
    "start_time": "2023-09-19T08:03:29.022Z"
   },
   {
    "duration": 16,
    "start_time": "2023-09-19T08:03:29.401Z"
   },
   {
    "duration": 48,
    "start_time": "2023-09-19T08:03:29.419Z"
   },
   {
    "duration": 138,
    "start_time": "2023-09-19T08:03:29.469Z"
   },
   {
    "duration": 192,
    "start_time": "2023-09-19T08:03:29.610Z"
   },
   {
    "duration": 111,
    "start_time": "2023-09-19T08:03:29.805Z"
   },
   {
    "duration": 238,
    "start_time": "2023-09-19T08:03:30.003Z"
   },
   {
    "duration": 3,
    "start_time": "2023-09-19T08:03:30.243Z"
   },
   {
    "duration": 87,
    "start_time": "2023-09-19T08:03:30.248Z"
   },
   {
    "duration": 145,
    "start_time": "2023-09-19T08:03:30.336Z"
   },
   {
    "duration": 88,
    "start_time": "2023-09-19T08:03:30.483Z"
   },
   {
    "duration": 102,
    "start_time": "2023-09-19T08:03:30.573Z"
   },
   {
    "duration": 93,
    "start_time": "2023-09-19T08:03:30.677Z"
   },
   {
    "duration": 254,
    "start_time": "2023-09-19T08:03:30.772Z"
   },
   {
    "duration": 1173,
    "start_time": "2023-09-19T08:03:31.028Z"
   },
   {
    "duration": 1110,
    "start_time": "2023-09-19T08:03:32.204Z"
   },
   {
    "duration": 1052,
    "start_time": "2023-09-19T08:03:33.316Z"
   },
   {
    "duration": 333,
    "start_time": "2023-09-19T08:06:16.816Z"
   },
   {
    "duration": 353,
    "start_time": "2023-09-19T08:06:17.235Z"
   }
  ],
  "kernelspec": {
   "display_name": "Python 3 (ipykernel)",
   "language": "python",
   "name": "python3"
  },
  "language_info": {
   "codemirror_mode": {
    "name": "ipython",
    "version": 3
   },
   "file_extension": ".py",
   "mimetype": "text/x-python",
   "name": "python",
   "nbconvert_exporter": "python",
   "pygments_lexer": "ipython3",
   "version": "3.9.15"
  },
  "toc": {
   "base_numbering": 1,
   "nav_menu": {},
   "number_sections": true,
   "sideBar": true,
   "skip_h1_title": true,
   "title_cell": "Table of Contents",
   "title_sidebar": "Contents",
   "toc_cell": false,
   "toc_position": {},
   "toc_section_display": true,
   "toc_window_display": false
  }
 },
 "nbformat": 4,
 "nbformat_minor": 4
}
